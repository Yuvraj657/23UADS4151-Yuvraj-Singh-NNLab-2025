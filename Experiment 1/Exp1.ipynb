{
  "nbformat": 4,
  "nbformat_minor": 0,
  "metadata": {
    "colab": {
      "provenance": []
    },
    "kernelspec": {
      "name": "python3",
      "display_name": "Python 3"
    },
    "language_info": {
      "name": "python"
    }
  },
  "cells": [
    {
      "cell_type": "code",
      "execution_count": 4,
      "metadata": {
        "id": "sNZpJrP6gOBl"
      },
      "outputs": [],
      "source": [
        "import numpy as np\n",
        "from sklearn.metrics import confusion_matrix, accuracy_score"
      ]
    },
    {
      "cell_type": "code",
      "source": [
        "class Perceptron:\n",
        "    def __init__(self, input_size, lr=0.1, epochs=100):\n",
        "        self.weights = np.random.randn(input_size + 1)  # Including bias weight\n",
        "        self.lr = lr\n",
        "        self.epochs = epochs\n",
        "\n",
        "    def activation(self, x):\n",
        "        return 1 if x >= 0 else 0\n",
        "\n",
        "    def predict(self, X):\n",
        "        X = np.insert(X, 0, 1, axis=1)  # Adding bias term\n",
        "        return np.array([self.activation(np.dot(self.weights, x)) for x in X])\n",
        "\n",
        "    def fit(self, X, y):\n",
        "        X = np.insert(X, 0, 1, axis=1)  # Adding bias term\n",
        "        for _ in range(self.epochs):\n",
        "            for xi, target in zip(X, y):\n",
        "                y_pred = self.activation(np.dot(self.weights, xi))\n",
        "                self.weights += self.lr * (target - y_pred) * xi\n",
        "\n",
        "    def evaluate(self, X, y):\n",
        "        y_pred = self.predict(X)\n",
        "        cm = confusion_matrix(y, y_pred)\n",
        "        acc = accuracy_score(y, y_pred)\n",
        "        return cm, acc"
      ],
      "metadata": {
        "id": "dTBaopLagTK2"
      },
      "execution_count": 5,
      "outputs": []
    },
    {
      "cell_type": "code",
      "source": [
        "# NAND Truth Table\n",
        "data_nand = np.array([[0, 0], [0, 1], [1, 0], [1, 1]])\n",
        "labels_nand = np.array([1, 1, 1, 0])  # NAND output\n",
        "\n",
        "# XOR Truth Table\n",
        "data_xor = np.array([[0, 0], [0, 1], [1, 0], [1, 1]])\n",
        "labels_xor = np.array([0, 1, 1, 0])  # XOR output"
      ],
      "metadata": {
        "id": "Npfx8Ja9gv_W"
      },
      "execution_count": 6,
      "outputs": []
    },
    {
      "cell_type": "code",
      "source": [
        "print(\"Training Perceptron for NAND\")\n",
        "perceptron_nand = Perceptron(input_size=2, lr=0.1, epochs=100)\n",
        "perceptron_nand.fit(data_nand, labels_nand)"
      ],
      "metadata": {
        "colab": {
          "base_uri": "https://localhost:8080/"
        },
        "id": "D6rCrhGAgzW-",
        "outputId": "86bc1302-a0f3-40d4-db6c-5d81b16c123c"
      },
      "execution_count": 7,
      "outputs": [
        {
          "output_type": "stream",
          "name": "stdout",
          "text": [
            "Training Perceptron for NAND\n"
          ]
        }
      ]
    },
    {
      "cell_type": "code",
      "source": [
        "print(\"Training Perceptron for XOR\")\n",
        "perceptron_xor = Perceptron(input_size=2, lr=0.1, epochs=100)\n",
        "perceptron_xor.fit(data_xor, labels_xor)"
      ],
      "metadata": {
        "colab": {
          "base_uri": "https://localhost:8080/"
        },
        "id": "pPy9lP1vhRYC",
        "outputId": "bdfa7441-0351-4c40-e0d8-3cace7538157"
      },
      "execution_count": 8,
      "outputs": [
        {
          "output_type": "stream",
          "name": "stdout",
          "text": [
            "Training Perceptron for XOR\n"
          ]
        }
      ]
    },
    {
      "cell_type": "code",
      "source": [
        "cm_nand, acc_nand = perceptron_nand.evaluate(data_nand, labels_nand)\n",
        "print(f\"Confusion Matrix for NAND:\\n{cm_nand}\")\n",
        "print(f\"Accuracy for NAND: {acc_nand:.2f}\")"
      ],
      "metadata": {
        "colab": {
          "base_uri": "https://localhost:8080/"
        },
        "id": "1-jQSsa6hVTy",
        "outputId": "9f7f7c04-a91d-4525-c4bb-a38e8ccc7952"
      },
      "execution_count": 9,
      "outputs": [
        {
          "output_type": "stream",
          "name": "stdout",
          "text": [
            "Confusion Matrix for NAND:\n",
            "[[1 0]\n",
            " [0 3]]\n",
            "Accuracy for NAND: 1.00\n"
          ]
        }
      ]
    },
    {
      "cell_type": "code",
      "source": [
        "cm_xor, acc_xor = perceptron_xor.evaluate(data_xor, labels_xor)\n",
        "print(f\"Confusion Matrix for XOR:\\n{cm_xor}\")\n",
        "print(f\"Accuracy for XOR: {acc_xor:.2f}\")"
      ],
      "metadata": {
        "colab": {
          "base_uri": "https://localhost:8080/"
        },
        "id": "b39BFfwUhYRW",
        "outputId": "6e151516-1a6f-4e6e-fbca-3fbcfcb5c4f9"
      },
      "execution_count": 10,
      "outputs": [
        {
          "output_type": "stream",
          "name": "stdout",
          "text": [
            "Confusion Matrix for XOR:\n",
            "[[1 1]\n",
            " [1 1]]\n",
            "Accuracy for XOR: 0.50\n"
          ]
        }
      ]
    },
    {
      "cell_type": "code",
      "source": [],
      "metadata": {
        "id": "N061r9LihcBQ"
      },
      "execution_count": null,
      "outputs": []
    }
  ]
}